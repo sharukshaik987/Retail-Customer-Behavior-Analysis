{
 "cells": [
  {
   "cell_type": "code",
   "execution_count": 28,
   "id": "078ddc85-e2f1-43b4-83f3-6981673014b1",
   "metadata": {
    "scrolled": true
   },
   "outputs": [
    {
     "name": "stdout",
     "output_type": "stream",
     "text": [
      "Requirement already satisfied: kaggle in c:\\users\\sharu\\anaconda3\\lib\\site-packages (1.6.17)\n",
      "Requirement already satisfied: six>=1.10 in c:\\users\\sharu\\anaconda3\\lib\\site-packages (from kaggle) (1.16.0)\n",
      "Requirement already satisfied: certifi>=2023.7.22 in c:\\users\\sharu\\anaconda3\\lib\\site-packages (from kaggle) (2024.8.30)\n",
      "Requirement already satisfied: python-dateutil in c:\\users\\sharu\\anaconda3\\lib\\site-packages (from kaggle) (2.9.0.post0)\n",
      "Requirement already satisfied: requests in c:\\users\\sharu\\anaconda3\\lib\\site-packages (from kaggle) (2.32.3)\n",
      "Requirement already satisfied: tqdm in c:\\users\\sharu\\anaconda3\\lib\\site-packages (from kaggle) (4.66.5)\n",
      "Requirement already satisfied: python-slugify in c:\\users\\sharu\\anaconda3\\lib\\site-packages (from kaggle) (5.0.2)\n",
      "Requirement already satisfied: urllib3 in c:\\users\\sharu\\anaconda3\\lib\\site-packages (from kaggle) (2.2.3)\n",
      "Requirement already satisfied: bleach in c:\\users\\sharu\\anaconda3\\lib\\site-packages (from kaggle) (4.1.0)\n",
      "Requirement already satisfied: packaging in c:\\users\\sharu\\anaconda3\\lib\\site-packages (from bleach->kaggle) (24.1)\n",
      "Requirement already satisfied: webencodings in c:\\users\\sharu\\anaconda3\\lib\\site-packages (from bleach->kaggle) (0.5.1)\n",
      "Requirement already satisfied: text-unidecode>=1.3 in c:\\users\\sharu\\anaconda3\\lib\\site-packages (from python-slugify->kaggle) (1.3)\n",
      "Requirement already satisfied: charset-normalizer<4,>=2 in c:\\users\\sharu\\anaconda3\\lib\\site-packages (from requests->kaggle) (3.3.2)\n",
      "Requirement already satisfied: idna<4,>=2.5 in c:\\users\\sharu\\anaconda3\\lib\\site-packages (from requests->kaggle) (3.7)\n",
      "Requirement already satisfied: colorama in c:\\users\\sharu\\anaconda3\\lib\\site-packages (from tqdm->kaggle) (0.4.6)\n",
      "Note: you may need to restart the kernel to use updated packages.\n"
     ]
    }
   ],
   "source": [
    "pip install kaggle"
   ]
  },
  {
   "cell_type": "code",
   "execution_count": 29,
   "id": "18734f3d-d161-4341-a98c-2e66c15aa3f0",
   "metadata": {},
   "outputs": [],
   "source": [
    "import kaggle"
   ]
  },
  {
   "cell_type": "code",
   "execution_count": 30,
   "id": "95303c3d-3c83-40b9-9f5c-869e86612b08",
   "metadata": {},
   "outputs": [
    {
     "name": "stdout",
     "output_type": "stream",
     "text": [
      "Dataset URL: https://www.kaggle.com/datasets/nishchay331/retail-store\n",
      "License(s): other\n",
      "retail-store.zip: Skipping, found more recently modified local copy (use --force to force download)\n"
     ]
    }
   ],
   "source": [
    "!kaggle datasets download -d nishchay331/retail-store\n"
   ]
  },
  {
   "cell_type": "code",
   "execution_count": 31,
   "id": "38729b6d-0f15-484c-9eec-b195b723451c",
   "metadata": {},
   "outputs": [],
   "source": [
    "import zipfile\n",
    "\n",
    "with zipfile.ZipFile('retail-store.zip', 'r') as zip_ref:\n",
    "    zip_ref.extractall('data_csv')  # Replace 'datasets' with your desired folder name\n",
    "\n"
   ]
  },
  {
   "cell_type": "code",
   "execution_count": 32,
   "id": "e33f98bb-d183-42c5-b02b-ef948bd77a5e",
   "metadata": {
    "scrolled": true
   },
   "outputs": [
    {
     "name": "stdout",
     "output_type": "stream",
     "text": [
      "(1661026, 12) (2534161, 12)\n"
     ]
    },
    {
     "data": {
      "text/html": [
       "<div>\n",
       "<style scoped>\n",
       "    .dataframe tbody tr th:only-of-type {\n",
       "        vertical-align: middle;\n",
       "    }\n",
       "\n",
       "    .dataframe tbody tr th {\n",
       "        vertical-align: top;\n",
       "    }\n",
       "\n",
       "    .dataframe thead th {\n",
       "        text-align: right;\n",
       "    }\n",
       "</style>\n",
       "<table border=\"1\" class=\"dataframe\">\n",
       "  <thead>\n",
       "    <tr style=\"text-align: right;\">\n",
       "      <th></th>\n",
       "      <th>user_id</th>\n",
       "      <th>bill_id</th>\n",
       "      <th>line_item_amount</th>\n",
       "      <th>bill_discount</th>\n",
       "      <th>transaction_date</th>\n",
       "      <th>description</th>\n",
       "      <th>inventory_category</th>\n",
       "      <th>colour</th>\n",
       "      <th>size</th>\n",
       "      <th>zone_name</th>\n",
       "      <th>store_name</th>\n",
       "      <th>year</th>\n",
       "    </tr>\n",
       "  </thead>\n",
       "  <tbody>\n",
       "    <tr>\n",
       "      <th>0</th>\n",
       "      <td>519644808</td>\n",
       "      <td>741961800</td>\n",
       "      <td>559.6</td>\n",
       "      <td>0.0</td>\n",
       "      <td>2022-04-20</td>\n",
       "      <td>MBL ITA16BLT004 Regular Casual Tan 32</td>\n",
       "      <td>MENS BELT</td>\n",
       "      <td>Tan</td>\n",
       "      <td>32</td>\n",
       "      <td>North</td>\n",
       "      <td>North_6023</td>\n",
       "      <td>2022</td>\n",
       "    </tr>\n",
       "    <tr>\n",
       "      <th>1</th>\n",
       "      <td>519644808</td>\n",
       "      <td>741961800</td>\n",
       "      <td>559.6</td>\n",
       "      <td>0.0</td>\n",
       "      <td>2022-04-20</td>\n",
       "      <td>MBL ITA16BLT004 Regular Casual Tan 32</td>\n",
       "      <td>MENS BELT</td>\n",
       "      <td>Tan</td>\n",
       "      <td>32</td>\n",
       "      <td>North</td>\n",
       "      <td>North_6023</td>\n",
       "      <td>2022</td>\n",
       "    </tr>\n",
       "    <tr>\n",
       "      <th>2</th>\n",
       "      <td>504795522</td>\n",
       "      <td>692673877</td>\n",
       "      <td>699.5</td>\n",
       "      <td>0.0</td>\n",
       "      <td>2022-01-27</td>\n",
       "      <td>MBL ITA16BLT004 Regular Casual Tan 34</td>\n",
       "      <td>MENS BELT</td>\n",
       "      <td>Tan</td>\n",
       "      <td>34</td>\n",
       "      <td>East</td>\n",
       "      <td>East_6510</td>\n",
       "      <td>2022</td>\n",
       "    </tr>\n",
       "    <tr>\n",
       "      <th>3</th>\n",
       "      <td>12626591</td>\n",
       "      <td>768369011</td>\n",
       "      <td>519.6</td>\n",
       "      <td>0.0</td>\n",
       "      <td>2022-10-09</td>\n",
       "      <td>MBL ITA16BLT001 Regular Casual Dark Brown 32</td>\n",
       "      <td>MENS BELT</td>\n",
       "      <td>Dark Brown</td>\n",
       "      <td>32</td>\n",
       "      <td>South</td>\n",
       "      <td>South_6017</td>\n",
       "      <td>2022</td>\n",
       "    </tr>\n",
       "    <tr>\n",
       "      <th>4</th>\n",
       "      <td>12626591</td>\n",
       "      <td>768369011</td>\n",
       "      <td>519.6</td>\n",
       "      <td>0.0</td>\n",
       "      <td>2022-10-09</td>\n",
       "      <td>MBL ITA16BLT001 Regular Casual Dark Brown 32</td>\n",
       "      <td>MENS BELT</td>\n",
       "      <td>Dark Brown</td>\n",
       "      <td>32</td>\n",
       "      <td>South</td>\n",
       "      <td>South_6017</td>\n",
       "      <td>2022</td>\n",
       "    </tr>\n",
       "  </tbody>\n",
       "</table>\n",
       "</div>"
      ],
      "text/plain": [
       "     user_id    bill_id  line_item_amount  bill_discount transaction_date  \\\n",
       "0  519644808  741961800             559.6            0.0       2022-04-20   \n",
       "1  519644808  741961800             559.6            0.0       2022-04-20   \n",
       "2  504795522  692673877             699.5            0.0       2022-01-27   \n",
       "3   12626591  768369011             519.6            0.0       2022-10-09   \n",
       "4   12626591  768369011             519.6            0.0       2022-10-09   \n",
       "\n",
       "                                    description inventory_category  \\\n",
       "0         MBL ITA16BLT004 Regular Casual Tan 32          MENS BELT   \n",
       "1         MBL ITA16BLT004 Regular Casual Tan 32          MENS BELT   \n",
       "2         MBL ITA16BLT004 Regular Casual Tan 34          MENS BELT   \n",
       "3  MBL ITA16BLT001 Regular Casual Dark Brown 32          MENS BELT   \n",
       "4  MBL ITA16BLT001 Regular Casual Dark Brown 32          MENS BELT   \n",
       "\n",
       "       colour size zone_name  store_name  year  \n",
       "0         Tan   32     North  North_6023  2022  \n",
       "1         Tan   32     North  North_6023  2022  \n",
       "2         Tan   34      East   East_6510  2022  \n",
       "3  Dark Brown   32     South  South_6017  2022  \n",
       "4  Dark Brown   32     South  South_6017  2022  "
      ]
     },
     "execution_count": 32,
     "metadata": {},
     "output_type": "execute_result"
    }
   ],
   "source": [
    "import pandas as pd\n",
    "import numpy as np\n",
    "\n",
    "# Load the CSVs into pandas DataFrames\n",
    "df1 = pd.read_csv('data_csv/data_2021.csv')\n",
    "df2 = pd.read_csv('data_csv/data_2022.csv')\n",
    "\n",
    "# Check the shape and top rows\n",
    "print(df1.shape, df2.shape)\n",
    "df1.head()\n",
    "df2.head()"
   ]
  },
  {
   "cell_type": "code",
   "execution_count": 33,
   "id": "2a65f338-b72f-439c-9529-7111e3c76209",
   "metadata": {},
   "outputs": [
    {
     "data": {
      "text/plain": [
       "user_id                    0\n",
       "bill_id                    0\n",
       "line_item_amount           0\n",
       "bill_discount              0\n",
       "transaction_date           0\n",
       "description               10\n",
       "inventory_category    414103\n",
       "colour                    22\n",
       "size                      22\n",
       "zone_name                  0\n",
       "store_name                 0\n",
       "year                       0\n",
       "dtype: int64"
      ]
     },
     "execution_count": 33,
     "metadata": {},
     "output_type": "execute_result"
    }
   ],
   "source": [
    "df1.isnull().sum()"
   ]
  },
  {
   "cell_type": "code",
   "execution_count": 34,
   "id": "83f0e864-54a7-4b91-8b53-4caea3131245",
   "metadata": {},
   "outputs": [
    {
     "data": {
      "text/plain": [
       "user_id                    0\n",
       "bill_id                    0\n",
       "line_item_amount           0\n",
       "bill_discount              0\n",
       "transaction_date           0\n",
       "description                4\n",
       "inventory_category    208257\n",
       "colour                 15313\n",
       "size                   15313\n",
       "zone_name                  0\n",
       "store_name                 0\n",
       "year                       0\n",
       "dtype: int64"
      ]
     },
     "execution_count": 34,
     "metadata": {},
     "output_type": "execute_result"
    }
   ],
   "source": [
    "df2.isnull().sum()"
   ]
  },
  {
   "cell_type": "code",
   "execution_count": 35,
   "id": "ecdf7936-807a-4dfc-929d-4b3f493c1cee",
   "metadata": {},
   "outputs": [
    {
     "name": "stdout",
     "output_type": "stream",
     "text": [
      "DF1 duplicates: 348289\n",
      "DF2 duplicates: 558608\n"
     ]
    }
   ],
   "source": [
    "print(\"DF1 duplicates:\", df1.duplicated().sum())\n",
    "print(\"DF2 duplicates:\", df2.duplicated().sum())\n",
    "\n",
    "\n",
    "\n"
   ]
  },
  {
   "cell_type": "code",
   "execution_count": 36,
   "id": "42ee8d7b-9048-4b6b-b2ca-3a4d12470cfc",
   "metadata": {},
   "outputs": [],
   "source": [
    "# Dropping  duplicates \n",
    "df1.drop_duplicates(inplace=True)\n",
    "df2.drop_duplicates(inplace=True)"
   ]
  },
  {
   "cell_type": "code",
   "execution_count": 37,
   "id": "c958f545-f2c2-4f95-adf3-aa5b71f94e14",
   "metadata": {},
   "outputs": [
    {
     "name": "stdout",
     "output_type": "stream",
     "text": [
      "     user_id    bill_id  line_item_amount  bill_discount transaction_date  \\\n",
      "0  432158864  605654505          779.4000            0.0       2021-02-12   \n",
      "1   10388511  642524803         1402.3148            0.0       2021-08-22   \n",
      "2  469000103  600607021         1154.7635            0.0       2021-01-22   \n",
      "3  495324431  654044746           99.0000            0.0       2021-10-12   \n",
      "4  477957785  636941492         1026.1622            0.0       2021-07-28   \n",
      "\n",
      "  zone_name  store_name  year  \n",
      "0      East   East_7310  2021  \n",
      "1     South  South_7045  2021  \n",
      "2     North  North_7064  2021  \n",
      "3     North  North_7118  2021  \n",
      "4     North  North_7013  2021  \n"
     ]
    },
    {
     "data": {
      "text/plain": [
       "user_id             0\n",
       "bill_id             0\n",
       "line_item_amount    0\n",
       "bill_discount       0\n",
       "transaction_date    0\n",
       "zone_name           0\n",
       "store_name          0\n",
       "year                0\n",
       "dtype: int64"
      ]
     },
     "execution_count": 37,
     "metadata": {},
     "output_type": "execute_result"
    }
   ],
   "source": [
    "# Drop the specified columns not needed for the analysis on data_2021\n",
    "df1 = df1.drop(columns=['description', 'inventory_category', 'colour', 'size'])\n",
    "\n",
    "# Verify the updated DataFrame\n",
    "print(df1.head())\n",
    "\n",
    "df1.isnull().sum()\n"
   ]
  },
  {
   "cell_type": "code",
   "execution_count": 38,
   "id": "e063ab92-030a-47b1-b9e2-826f10779ff8",
   "metadata": {},
   "outputs": [
    {
     "name": "stdout",
     "output_type": "stream",
     "text": [
      "      user_id    bill_id  line_item_amount  bill_discount transaction_date  \\\n",
      "0   519644808  741961800          559.6000            0.0       2022-04-20   \n",
      "2   504795522  692673877          699.5000            0.0       2022-01-27   \n",
      "3    12626591  768369011          519.6000            0.0       2022-10-09   \n",
      "10  496507098  779140853          559.6000            0.0       2022-11-10   \n",
      "12  518922122  740235900          937.1713            0.0       2022-07-04   \n",
      "\n",
      "   zone_name  store_name  year  \n",
      "0      North  North_6023  2022  \n",
      "2       East   East_6510  2022  \n",
      "3      South  South_6017  2022  \n",
      "10     South  South_6028  2022  \n",
      "12     South  South_6028  2022  \n"
     ]
    },
    {
     "data": {
      "text/plain": [
       "user_id             0\n",
       "bill_id             0\n",
       "line_item_amount    0\n",
       "bill_discount       0\n",
       "transaction_date    0\n",
       "zone_name           0\n",
       "store_name          0\n",
       "year                0\n",
       "dtype: int64"
      ]
     },
     "execution_count": 38,
     "metadata": {},
     "output_type": "execute_result"
    }
   ],
   "source": [
    "# Drop the specified columns not needed for the analysis on data_2022\n",
    "df2 = df2.drop(columns=['description', 'inventory_category', 'colour', 'size'])\n",
    "\n",
    "# Verify the updated DataFrame\n",
    "print(df2.head())\n",
    "\n",
    "\n",
    "\n",
    "df1.isnull().sum()"
   ]
  },
  {
   "cell_type": "code",
   "execution_count": 39,
   "id": "fb4a13c7-6c60-42f8-8428-6a5bef3488b2",
   "metadata": {},
   "outputs": [],
   "source": [
    "df1['transaction_date'] = pd.to_datetime(df1['transaction_date'])\n",
    "df2['transaction_date'] = pd.to_datetime(df2['transaction_date'])\n"
   ]
  },
  {
   "cell_type": "code",
   "execution_count": 40,
   "id": "46e8ffb9-b208-45be-93a9-e77b29d6600c",
   "metadata": {},
   "outputs": [],
   "source": [
    "# 4. Merge/Append Data\n",
    "df_combined = pd.concat([df1, df2], ignore_index=True)"
   ]
  },
  {
   "cell_type": "code",
   "execution_count": 41,
   "id": "087c65dc-b016-4c24-bf8b-f2a21a14c273",
   "metadata": {},
   "outputs": [
    {
     "name": "stdout",
     "output_type": "stream",
     "text": [
      "done\n"
     ]
    }
   ],
   "source": [
    "\n",
    "\n",
    "df_combined.to_csv('df_combined.csv', index=False)\n",
    "print('done')"
   ]
  },
  {
   "cell_type": "code",
   "execution_count": 42,
   "id": "93ecf7d4-a364-4a42-9f90-dabeba2af521",
   "metadata": {},
   "outputs": [],
   "source": [
    "# 5. Create net_amount column\n",
    "df_combined['net_amount'] = df_combined['line_item_amount'] - df_combined['bill_discount']"
   ]
  },
  {
   "cell_type": "code",
   "execution_count": 43,
   "id": "2903456a-0217-48ad-bb25-eb1aa757b669",
   "metadata": {},
   "outputs": [],
   "source": [
    "\n",
    "# 6. Key Metrics"
   ]
  },
  {
   "cell_type": "code",
   "execution_count": 44,
   "id": "93037c9b-6946-49af-91e4-bd885d98df40",
   "metadata": {},
   "outputs": [],
   "source": [
    "\n",
    "## 6.1 CLV\n",
    "customer_clv = df_combined.groupby('user_id')['net_amount'].sum().reset_index()\n",
    "customer_clv.columns = ['user_id', 'CLV']"
   ]
  },
  {
   "cell_type": "code",
   "execution_count": 45,
   "id": "47f2d9c8-e975-4031-831f-953fbe5c7d97",
   "metadata": {},
   "outputs": [],
   "source": [
    "customer_clv.to_csv('customer_clv.csv', index=False)"
   ]
  },
  {
   "cell_type": "code",
   "execution_count": 46,
   "id": "c5e2cc5e-54e1-481a-939c-9b9796f5572f",
   "metadata": {},
   "outputs": [
    {
     "name": "stdout",
     "output_type": "stream",
     "text": [
      "Retention Rate: 0.25137634146628995\n"
     ]
    }
   ],
   "source": [
    "## 6.2 Retention Rate (example year-based)\n",
    "df_combined['year'] = df_combined['transaction_date'].dt.year\n",
    "customers_2021 = set(df_combined[df_combined['year'] == 2021]['user_id'].unique())\n",
    "customers_2022 = set(df_combined[df_combined['year'] == 2022]['user_id'].unique())\n",
    "retained_customers = customers_2021.intersection(customers_2022)\n",
    "retention_rate_2021_to_2022 = len(retained_customers) / len(customers_2021) \n",
    "print('Retention Rate:', retention_rate_2021_to_2022)"
   ]
  },
  {
   "cell_type": "code",
   "execution_count": 47,
   "id": "0ea52f5e-ee4d-444e-95cf-ed986e84b4d3",
   "metadata": {},
   "outputs": [
    {
     "name": "stdout",
     "output_type": "stream",
     "text": [
      "Average purchase frequency: 1.7752459425151872\n"
     ]
    }
   ],
   "source": [
    "## 6.3 Purchase Frequency\n",
    "purchase_counts = df_combined.groupby('user_id')['bill_id'].nunique().reset_index()\n",
    "purchase_counts.columns = ['user_id', 'purchase_count']\n",
    "avg_purchase_freq = purchase_counts['purchase_count'].mean()\n",
    "print('Average purchase frequency:', avg_purchase_freq)"
   ]
  },
  {
   "cell_type": "code",
   "execution_count": 48,
   "id": "aa11e014-4401-45ab-8175-52ab50fd14fa",
   "metadata": {},
   "outputs": [
    {
     "name": "stdout",
     "output_type": "stream",
     "text": [
      "AOV: 4381.1896880088125\n"
     ]
    }
   ],
   "source": [
    "\n",
    "## 6.4 AOV\n",
    "total_orders = df_combined['bill_id'].nunique()\n",
    "total_revenue = df_combined['net_amount'].sum()\n",
    "aov = total_revenue / total_orders\n",
    "print('AOV:',aov)"
   ]
  },
  {
   "cell_type": "code",
   "execution_count": 49,
   "id": "f09ab090-7ec4-46a9-98ce-c8d45a51d116",
   "metadata": {},
   "outputs": [
    {
     "data": {
      "text/html": [
       "<div>\n",
       "<style scoped>\n",
       "    .dataframe tbody tr th:only-of-type {\n",
       "        vertical-align: middle;\n",
       "    }\n",
       "\n",
       "    .dataframe tbody tr th {\n",
       "        vertical-align: top;\n",
       "    }\n",
       "\n",
       "    .dataframe thead th {\n",
       "        text-align: right;\n",
       "    }\n",
       "</style>\n",
       "<table border=\"1\" class=\"dataframe\">\n",
       "  <thead>\n",
       "    <tr style=\"text-align: right;\">\n",
       "      <th></th>\n",
       "      <th>Retention Rate (2021-2022)</th>\n",
       "      <th>Average Purchase Frequency</th>\n",
       "      <th>AOV</th>\n",
       "      <th>Total Revenue</th>\n",
       "    </tr>\n",
       "  </thead>\n",
       "  <tbody>\n",
       "    <tr>\n",
       "      <th>0</th>\n",
       "      <td>0.251376</td>\n",
       "      <td>1.775246</td>\n",
       "      <td>4381.189688</td>\n",
       "      <td>4.117446e+09</td>\n",
       "    </tr>\n",
       "  </tbody>\n",
       "</table>\n",
       "</div>"
      ],
      "text/plain": [
       "   Retention Rate (2021-2022)  Average Purchase Frequency          AOV  \\\n",
       "0                    0.251376                    1.775246  4381.189688   \n",
       "\n",
       "   Total Revenue  \n",
       "0   4.117446e+09  "
      ]
     },
     "execution_count": 49,
     "metadata": {},
     "output_type": "execute_result"
    }
   ],
   "source": [
    "import pandas as pd\n",
    "\n",
    "# 2. Create a dictionary of key metrics\n",
    "key_metrics = {\n",
    "    'Retention Rate (2021-2022)': retention_rate_2021_to_2022,\n",
    "    'Average Purchase Frequency': avg_purchase_freq,\n",
    "    'AOV': aov,  \n",
    "    'Total Revenue': df_combined['net_amount'].sum()  \n",
    "}\n",
    "\n",
    "# 3. Convert to DataFrame\n",
    "key_metrics_df = pd.DataFrame([key_metrics])\n",
    "\n",
    "# 4. Save to CSV\n",
    "key_metrics_df.to_csv('Key_metrics.csv', index=False)\n",
    "\n",
    "# 5. (Optional) Display the DataFrame\n",
    "key_metrics_df\n"
   ]
  },
  {
   "cell_type": "code",
   "execution_count": 50,
   "id": "9329bb0d-e2cb-4477-91bf-a2b2d2953286",
   "metadata": {},
   "outputs": [],
   "source": [
    "#RFM analysis"
   ]
  },
  {
   "cell_type": "code",
   "execution_count": 51,
   "id": "006d58e2-2113-457f-b574-7672752efa13",
   "metadata": {},
   "outputs": [
    {
     "name": "stdout",
     "output_type": "stream",
     "text": [
      "CLV sample:\n",
      "   user_id         CLV\n",
      "0    50049   8805.0001\n",
      "1    50174   -502.0000\n",
      "2    50511  16246.0021\n",
      "3    50565   6915.0010\n",
      "4    53762   5397.9999\n",
      "Yearly retention rate (2021 -> 2022): 0.25137634146628995\n",
      "Average Purchase Frequency: 1.7752459425151872\n",
      "Average Order Value: 4381.1896880088125\n",
      "RFM sample:\n",
      "   user_id  Frequency    Monetary  Recency R_Score F_Score M_Score RFM_Score\n",
      "0    50049          2   8805.0001      205       3       4       4       344\n",
      "1    50174          1   -502.0000      386       2       1       1       211\n",
      "2    50511          3  16246.0021      300       3       5       5       355\n",
      "3    50565          3   6915.0010      138       4       5       4       454\n",
      "4    53762          1   5397.9999      701       1       1       3       113\n"
     ]
    }
   ],
   "source": [
    "## 6.5 RFM\n",
    "snapshot_date = df_combined['transaction_date'].max() + pd.Timedelta(days=1)\n",
    "rfm = df_combined.groupby('user_id').agg({\n",
    "    'transaction_date': 'max',\n",
    "    'bill_id': 'nunique',\n",
    "    'net_amount': 'sum'\n",
    "}).reset_index()\n",
    "\n",
    "rfm.columns = ['user_id', 'LastPurchaseDate', 'Frequency', 'Monetary']\n",
    "rfm['Recency'] = (snapshot_date - rfm['LastPurchaseDate']).dt.days\n",
    "rfm.drop('LastPurchaseDate', axis=1, inplace=True)\n",
    "\n",
    "# R, F, M scoring\n",
    "rfm['R_Score'] = pd.qcut(rfm['Recency'], 5, labels=[5,4,3,2,1])\n",
    "rfm['F_Score'] = pd.qcut(rfm['Frequency'].rank(method='first'), 5, labels=[1,2,3,4,5])\n",
    "rfm['M_Score'] = pd.qcut(rfm['Monetary'].rank(method='first'), 5, labels=[1,2,3,4,5])\n",
    "rfm['RFM_Score'] = rfm['R_Score'].astype(str) + rfm['F_Score'].astype(str) + rfm['M_Score'].astype(str)\n",
    "\n",
    "# 7. Results\n",
    "print(\"CLV sample:\")\n",
    "print(customer_clv.head())\n",
    "\n",
    "print(\"Yearly retention rate (2021 -> 2022):\", retention_rate_2021_to_2022 )\n",
    "print(\"Average Purchase Frequency:\", avg_purchase_freq)\n",
    "print(\"Average Order Value:\", aov)\n",
    "\n",
    "print(\"RFM sample:\")\n",
    "print(rfm.head())"
   ]
  },
  {
   "cell_type": "code",
   "execution_count": 52,
   "id": "647267ba-ef0c-44a7-ba58-a6cb419c12f4",
   "metadata": {},
   "outputs": [
    {
     "data": {
      "text/html": [
       "<div>\n",
       "<style scoped>\n",
       "    .dataframe tbody tr th:only-of-type {\n",
       "        vertical-align: middle;\n",
       "    }\n",
       "\n",
       "    .dataframe tbody tr th {\n",
       "        vertical-align: top;\n",
       "    }\n",
       "\n",
       "    .dataframe thead th {\n",
       "        text-align: right;\n",
       "    }\n",
       "</style>\n",
       "<table border=\"1\" class=\"dataframe\">\n",
       "  <thead>\n",
       "    <tr style=\"text-align: right;\">\n",
       "      <th></th>\n",
       "      <th>user_id</th>\n",
       "      <th>Frequency</th>\n",
       "      <th>Monetary</th>\n",
       "      <th>Recency</th>\n",
       "    </tr>\n",
       "  </thead>\n",
       "  <tbody>\n",
       "    <tr>\n",
       "      <th>count</th>\n",
       "      <td>5.293920e+05</td>\n",
       "      <td>529392.000000</td>\n",
       "      <td>5.293920e+05</td>\n",
       "      <td>529392.000000</td>\n",
       "    </tr>\n",
       "    <tr>\n",
       "      <th>mean</th>\n",
       "      <td>4.620010e+08</td>\n",
       "      <td>1.775246</td>\n",
       "      <td>7.777689e+03</td>\n",
       "      <td>291.333407</td>\n",
       "    </tr>\n",
       "    <tr>\n",
       "      <th>std</th>\n",
       "      <td>9.384413e+07</td>\n",
       "      <td>2.388799</td>\n",
       "      <td>1.506115e+04</td>\n",
       "      <td>203.070381</td>\n",
       "    </tr>\n",
       "    <tr>\n",
       "      <th>min</th>\n",
       "      <td>5.004900e+04</td>\n",
       "      <td>1.000000</td>\n",
       "      <td>-3.966734e+06</td>\n",
       "      <td>1.000000</td>\n",
       "    </tr>\n",
       "    <tr>\n",
       "      <th>25%</th>\n",
       "      <td>4.479641e+08</td>\n",
       "      <td>1.000000</td>\n",
       "      <td>2.399001e+03</td>\n",
       "      <td>115.000000</td>\n",
       "    </tr>\n",
       "    <tr>\n",
       "      <th>50%</th>\n",
       "      <td>4.943137e+08</td>\n",
       "      <td>1.000000</td>\n",
       "      <td>4.802000e+03</td>\n",
       "      <td>258.000000</td>\n",
       "    </tr>\n",
       "    <tr>\n",
       "      <th>75%</th>\n",
       "      <td>5.150882e+08</td>\n",
       "      <td>2.000000</td>\n",
       "      <td>8.860000e+03</td>\n",
       "      <td>435.000000</td>\n",
       "    </tr>\n",
       "    <tr>\n",
       "      <th>max</th>\n",
       "      <td>5.359105e+08</td>\n",
       "      <td>216.000000</td>\n",
       "      <td>1.414872e+06</td>\n",
       "      <td>730.000000</td>\n",
       "    </tr>\n",
       "  </tbody>\n",
       "</table>\n",
       "</div>"
      ],
      "text/plain": [
       "            user_id      Frequency      Monetary        Recency\n",
       "count  5.293920e+05  529392.000000  5.293920e+05  529392.000000\n",
       "mean   4.620010e+08       1.775246  7.777689e+03     291.333407\n",
       "std    9.384413e+07       2.388799  1.506115e+04     203.070381\n",
       "min    5.004900e+04       1.000000 -3.966734e+06       1.000000\n",
       "25%    4.479641e+08       1.000000  2.399001e+03     115.000000\n",
       "50%    4.943137e+08       1.000000  4.802000e+03     258.000000\n",
       "75%    5.150882e+08       2.000000  8.860000e+03     435.000000\n",
       "max    5.359105e+08     216.000000  1.414872e+06     730.000000"
      ]
     },
     "execution_count": 52,
     "metadata": {},
     "output_type": "execute_result"
    }
   ],
   "source": [
    "rfm.describe()"
   ]
  },
  {
   "cell_type": "code",
   "execution_count": 53,
   "id": "728fdac3-8a48-45e8-af3c-f4ff3949c369",
   "metadata": {},
   "outputs": [
    {
     "name": "stdout",
     "output_type": "stream",
     "text": [
      "done\n"
     ]
    }
   ],
   "source": [
    "rfm.to_csv('rfm_analysis.csv', index=False)\n",
    "print('done')\n"
   ]
  },
  {
   "cell_type": "code",
   "execution_count": null,
   "id": "91ea0d0c-b609-4fb0-b3cb-6202f6f82944",
   "metadata": {},
   "outputs": [],
   "source": []
  }
 ],
 "metadata": {
  "kernelspec": {
   "display_name": "Python 3 (ipykernel)",
   "language": "python",
   "name": "python3"
  },
  "language_info": {
   "codemirror_mode": {
    "name": "ipython",
    "version": 3
   },
   "file_extension": ".py",
   "mimetype": "text/x-python",
   "name": "python",
   "nbconvert_exporter": "python",
   "pygments_lexer": "ipython3",
   "version": "3.12.7"
  }
 },
 "nbformat": 4,
 "nbformat_minor": 5
}
